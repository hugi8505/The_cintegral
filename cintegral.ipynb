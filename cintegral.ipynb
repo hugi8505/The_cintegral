{
 "cells": [
  {
   "cell_type": "code",
   "execution_count": 1,
   "metadata": {},
   "outputs": [
    {
     "data": {
      "text/plain": [
       "<Figure size 640x480 with 1 Axes>"
      ]
     },
     "metadata": {},
     "output_type": "display_data"
    }
   ],
   "source": [
    "import numpy as np\n",
    "import matplotlib.pyplot as plt\n",
    "width = 0.01\n",
    "x=np.arange (0,1,width)\n",
    "y=x**2\n",
    "plt.plot(x,y)\n",
    "plt.xlim (0,1)\n",
    "plt.ylim (0,1)\n",
    "plt.show()"
   ]
  },
  {
   "cell_type": "code",
   "execution_count": 2,
   "metadata": {
    "scrolled": true
   },
   "outputs": [
    {
     "data": {
      "text/plain": [
       "array([0.  , 0.01, 0.02, 0.03, 0.04, 0.05, 0.06, 0.07, 0.08, 0.09, 0.1 ,\n",
       "       0.11, 0.12, 0.13, 0.14, 0.15, 0.16, 0.17, 0.18, 0.19, 0.2 , 0.21,\n",
       "       0.22, 0.23, 0.24, 0.25, 0.26, 0.27, 0.28, 0.29, 0.3 , 0.31, 0.32,\n",
       "       0.33, 0.34, 0.35, 0.36, 0.37, 0.38, 0.39, 0.4 , 0.41, 0.42, 0.43,\n",
       "       0.44, 0.45, 0.46, 0.47, 0.48, 0.49, 0.5 , 0.51, 0.52, 0.53, 0.54,\n",
       "       0.55, 0.56, 0.57, 0.58, 0.59, 0.6 , 0.61, 0.62, 0.63, 0.64, 0.65,\n",
       "       0.66, 0.67, 0.68, 0.69, 0.7 , 0.71, 0.72, 0.73, 0.74, 0.75, 0.76,\n",
       "       0.77, 0.78, 0.79, 0.8 , 0.81, 0.82, 0.83, 0.84, 0.85, 0.86, 0.87,\n",
       "       0.88, 0.89, 0.9 , 0.91, 0.92, 0.93, 0.94, 0.95, 0.96, 0.97, 0.98,\n",
       "       0.99])"
      ]
     },
     "execution_count": 2,
     "metadata": {},
     "output_type": "execute_result"
    }
   ],
   "source": [
    "x"
   ]
  },
  {
   "cell_type": "code",
   "execution_count": 3,
   "metadata": {},
   "outputs": [
    {
     "data": {
      "text/plain": [
       "array([0.000e+00, 1.000e-04, 4.000e-04, 9.000e-04, 1.600e-03, 2.500e-03,\n",
       "       3.600e-03, 4.900e-03, 6.400e-03, 8.100e-03, 1.000e-02, 1.210e-02,\n",
       "       1.440e-02, 1.690e-02, 1.960e-02, 2.250e-02, 2.560e-02, 2.890e-02,\n",
       "       3.240e-02, 3.610e-02, 4.000e-02, 4.410e-02, 4.840e-02, 5.290e-02,\n",
       "       5.760e-02, 6.250e-02, 6.760e-02, 7.290e-02, 7.840e-02, 8.410e-02,\n",
       "       9.000e-02, 9.610e-02, 1.024e-01, 1.089e-01, 1.156e-01, 1.225e-01,\n",
       "       1.296e-01, 1.369e-01, 1.444e-01, 1.521e-01, 1.600e-01, 1.681e-01,\n",
       "       1.764e-01, 1.849e-01, 1.936e-01, 2.025e-01, 2.116e-01, 2.209e-01,\n",
       "       2.304e-01, 2.401e-01, 2.500e-01, 2.601e-01, 2.704e-01, 2.809e-01,\n",
       "       2.916e-01, 3.025e-01, 3.136e-01, 3.249e-01, 3.364e-01, 3.481e-01,\n",
       "       3.600e-01, 3.721e-01, 3.844e-01, 3.969e-01, 4.096e-01, 4.225e-01,\n",
       "       4.356e-01, 4.489e-01, 4.624e-01, 4.761e-01, 4.900e-01, 5.041e-01,\n",
       "       5.184e-01, 5.329e-01, 5.476e-01, 5.625e-01, 5.776e-01, 5.929e-01,\n",
       "       6.084e-01, 6.241e-01, 6.400e-01, 6.561e-01, 6.724e-01, 6.889e-01,\n",
       "       7.056e-01, 7.225e-01, 7.396e-01, 7.569e-01, 7.744e-01, 7.921e-01,\n",
       "       8.100e-01, 8.281e-01, 8.464e-01, 8.649e-01, 8.836e-01, 9.025e-01,\n",
       "       9.216e-01, 9.409e-01, 9.604e-01, 9.801e-01])"
      ]
     },
     "execution_count": 3,
     "metadata": {},
     "output_type": "execute_result"
    }
   ],
   "source": [
    "y"
   ]
  },
  {
   "cell_type": "code",
   "execution_count": 4,
   "metadata": {
    "scrolled": false
   },
   "outputs": [
    {
     "data": {
      "text/plain": [
       "([<matplotlib.axis.XTick at 0x1adbc803080>,\n",
       "  <matplotlib.axis.XTick at 0x1adbc831e10>,\n",
       "  <matplotlib.axis.XTick at 0x1adbc831b38>,\n",
       "  <matplotlib.axis.XTick at 0x1adbc9066d8>,\n",
       "  <matplotlib.axis.XTick at 0x1adbc906ba8>,\n",
       "  <matplotlib.axis.XTick at 0x1adbc90e128>,\n",
       "  <matplotlib.axis.XTick at 0x1adbc906630>,\n",
       "  <matplotlib.axis.XTick at 0x1adbc90e198>,\n",
       "  <matplotlib.axis.XTick at 0x1adbc90eb70>,\n",
       "  <matplotlib.axis.XTick at 0x1adbc917128>,\n",
       "  <matplotlib.axis.XTick at 0x1adbc9175c0>,\n",
       "  <matplotlib.axis.XTick at 0x1adbc917ac8>,\n",
       "  <matplotlib.axis.XTick at 0x1adbc917cf8>,\n",
       "  <matplotlib.axis.XTick at 0x1adbc91d518>,\n",
       "  <matplotlib.axis.XTick at 0x1adbc91da20>,\n",
       "  <matplotlib.axis.XTick at 0x1adbc91df28>,\n",
       "  <matplotlib.axis.XTick at 0x1adbc917ba8>,\n",
       "  <matplotlib.axis.XTick at 0x1adbc90e9e8>,\n",
       "  <matplotlib.axis.XTick at 0x1adbc926400>,\n",
       "  <matplotlib.axis.XTick at 0x1adbc926908>,\n",
       "  <matplotlib.axis.XTick at 0x1adbc926e10>,\n",
       "  <matplotlib.axis.XTick at 0x1adbc92f358>,\n",
       "  <matplotlib.axis.XTick at 0x1adbc92f860>,\n",
       "  <matplotlib.axis.XTick at 0x1adbc92fd68>,\n",
       "  <matplotlib.axis.XTick at 0x1adbc92f7b8>,\n",
       "  <matplotlib.axis.XTick at 0x1adbc926d68>,\n",
       "  <matplotlib.axis.XTick at 0x1adbc91def0>,\n",
       "  <matplotlib.axis.XTick at 0x1adbc938400>,\n",
       "  <matplotlib.axis.XTick at 0x1adbc9389b0>,\n",
       "  <matplotlib.axis.XTick at 0x1adbc938e80>,\n",
       "  <matplotlib.axis.XTick at 0x1adbc93f3c8>,\n",
       "  <matplotlib.axis.XTick at 0x1adbc93f8d0>,\n",
       "  <matplotlib.axis.XTick at 0x1adbc93fdd8>,\n",
       "  <matplotlib.axis.XTick at 0x1adbc947320>,\n",
       "  <matplotlib.axis.XTick at 0x1adbc93f828>,\n",
       "  <matplotlib.axis.XTick at 0x1adbc938320>,\n",
       "  <matplotlib.axis.XTick at 0x1adbc947668>,\n",
       "  <matplotlib.axis.XTick at 0x1adbc947b70>,\n",
       "  <matplotlib.axis.XTick at 0x1adbc950128>,\n",
       "  <matplotlib.axis.XTick at 0x1adbc9505c0>,\n",
       "  <matplotlib.axis.XTick at 0x1adbc950ac8>,\n",
       "  <matplotlib.axis.XTick at 0x1adbc950cf8>,\n",
       "  <matplotlib.axis.XTick at 0x1adbc957518>,\n",
       "  <matplotlib.axis.XTick at 0x1adbc950f98>,\n",
       "  <matplotlib.axis.XTick at 0x1adbc9472e8>,\n",
       "  <matplotlib.axis.XTick at 0x1adbc957470>,\n",
       "  <matplotlib.axis.XTick at 0x1adbc957dd8>,\n",
       "  <matplotlib.axis.XTick at 0x1adbc961320>,\n",
       "  <matplotlib.axis.XTick at 0x1adbc961828>,\n",
       "  <matplotlib.axis.XTick at 0x1adbc961d30>,\n",
       "  <matplotlib.axis.XTick at 0x1adbc968278>,\n",
       "  <matplotlib.axis.XTick at 0x1adbc968780>,\n",
       "  <matplotlib.axis.XTick at 0x1adbc961630>,\n",
       "  <matplotlib.axis.XTick at 0x1adbc9570b8>,\n",
       "  <matplotlib.axis.XTick at 0x1adbc968e10>,\n",
       "  <matplotlib.axis.XTick at 0x1adbc971160>,\n",
       "  <matplotlib.axis.XTick at 0x1adbc9715f8>,\n",
       "  <matplotlib.axis.XTick at 0x1adbc971b00>,\n",
       "  <matplotlib.axis.XTick at 0x1adbc97b0b8>,\n",
       "  <matplotlib.axis.XTick at 0x1adbc97b550>,\n",
       "  <matplotlib.axis.XTick at 0x1adbc97ba58>,\n",
       "  <matplotlib.axis.XTick at 0x1adbc97bf60>,\n",
       "  <matplotlib.axis.XTick at 0x1adbc971e80>,\n",
       "  <matplotlib.axis.XTick at 0x1adbc968940>,\n",
       "  <matplotlib.axis.XTick at 0x1adbc982438>,\n",
       "  <matplotlib.axis.XTick at 0x1adbc982940>,\n",
       "  <matplotlib.axis.XTick at 0x1adbc982e48>,\n",
       "  <matplotlib.axis.XTick at 0x1adbc98a390>,\n",
       "  <matplotlib.axis.XTick at 0x1adbc98a898>,\n",
       "  <matplotlib.axis.XTick at 0x1adbc98ada0>,\n",
       "  <matplotlib.axis.XTick at 0x1adbc9922e8>,\n",
       "  <matplotlib.axis.XTick at 0x1adbc98a438>,\n",
       "  <matplotlib.axis.XTick at 0x1adbc9822b0>,\n",
       "  <matplotlib.axis.XTick at 0x1adbc992630>,\n",
       "  <matplotlib.axis.XTick at 0x1adbc992b38>,\n",
       "  <matplotlib.axis.XTick at 0x1adbc99a0f0>,\n",
       "  <matplotlib.axis.XTick at 0x1adbc99a588>,\n",
       "  <matplotlib.axis.XTick at 0x1adbc99aa90>,\n",
       "  <matplotlib.axis.XTick at 0x1adbc99ae80>,\n",
       "  <matplotlib.axis.XTick at 0x1adbc9a24e0>,\n",
       "  <matplotlib.axis.XTick at 0x1adbc99af60>,\n",
       "  <matplotlib.axis.XTick at 0x1adbc9924a8>,\n",
       "  <matplotlib.axis.XTick at 0x1adbc9a2588>,\n",
       "  <matplotlib.axis.XTick at 0x1adbc9a2d30>,\n",
       "  <matplotlib.axis.XTick at 0x1adbc9ac278>,\n",
       "  <matplotlib.axis.XTick at 0x1adbc9ac780>,\n",
       "  <matplotlib.axis.XTick at 0x1adbc9acc88>,\n",
       "  <matplotlib.axis.XTick at 0x1adbc9b41d0>,\n",
       "  <matplotlib.axis.XTick at 0x1adbc9b46d8>,\n",
       "  <matplotlib.axis.XTick at 0x1adbc9ac748>,\n",
       "  <matplotlib.axis.XTick at 0x1adbc9a2ba8>,\n",
       "  <matplotlib.axis.XTick at 0x1adbc9b4da0>,\n",
       "  <matplotlib.axis.XTick at 0x1adbc9bc0b8>,\n",
       "  <matplotlib.axis.XTick at 0x1adbc9bc550>,\n",
       "  <matplotlib.axis.XTick at 0x1adbc9bca58>,\n",
       "  <matplotlib.axis.XTick at 0x1adbc9bcf60>,\n",
       "  <matplotlib.axis.XTick at 0x1adbc9c44a8>,\n",
       "  <matplotlib.axis.XTick at 0x1adbc9c49b0>,\n",
       "  <matplotlib.axis.XTick at 0x1adbc9c4eb8>,\n",
       "  <matplotlib.axis.XTick at 0x1adbc9bcdd8>],\n",
       " <a list of 100 Text xticklabel objects>)"
      ]
     },
     "execution_count": 4,
     "metadata": {},
     "output_type": "execute_result"
    },
    {
     "data": {
      "image/png": "[encoded data removed]",
      "text/plain": [
       "<Figure size 432x288 with 1 Axes>"
      ]
     },
     "metadata": {
      "needs_background": "light"
     },
     "output_type": "display_data"
    }
   ],
   "source": [
    "objects = x\n",
    "y_pos = np.arange(len(objects))\n",
    "plt.bar(y_pos, y, align='center', width = 1 , alpha=0.5)\n",
    "plt.plot(y_pos, y)\n",
    "plt.xticks(y_pos, objects)"
   ]
  },
  {
   "cell_type": "markdown",
   "metadata": {},
   "source": [
    "$$\n",
    "\\begin{align*} \n",
    "I  &=\\int_{0}^{1} f(x) dx \\\\\n",
    "   &=\\tfrac{1}{3} x^2 \n",
    "\\Big|_0^1=\\tfrac{1}{3} 1^2 -0=\\tfrac{1}{3}\n",
    "\\end{align*}\n",
    "$$\n"
   ]
  },
  {
   "cell_type": "code",
   "execution_count": 5,
   "metadata": {},
   "outputs": [
    {
     "data": {
      "text/plain": [
       "(0.33333333333333337, 3.700743415417189e-15)"
      ]
     },
     "execution_count": 5,
     "metadata": {},
     "output_type": "execute_result"
    }
   ],
   "source": [
    "from scipy.integrate import quad\n",
    "def integrand(x, a):\n",
    "    return a*x**2\n",
    "a=1\n",
    "I = quad (integrand, 0, 1, args=(a))\n",
    "I"
   ]
  },
  {
   "cell_type": "code",
   "execution_count": 6,
   "metadata": {},
   "outputs": [
    {
     "name": "stdout",
     "output_type": "stream",
     "text": [
      "理論值: 0.32835000000000003\n",
      "誤差值: 0.004983333333333284\n"
     ]
    }
   ],
   "source": [
    "cintegral = width * sum(y)\n",
    "print (\"理論值:\",cintegral)\n",
    "\n",
    "ex = (1/3)-cintegral\n",
    "print (\"誤差值:\",ex)"
   ]
  },
  {
   "cell_type": "code",
   "execution_count": null,
   "metadata": {},
   "outputs": [],
   "source": []
  }
 ],
 "metadata": {
  "kernelspec": {
   "display_name": "Python 3",
   "language": "python",
   "name": "python3"
  },
  "language_info": {
   "codemirror_mode": {
    "name": "ipython",
    "version": 3
   },
   "file_extension": ".py",
   "mimetype": "text/x-python",
   "name": "python",
   "nbconvert_exporter": "python",
   "pygments_lexer": "ipython3",
   "version": "3.6.6"
  }
 },
 "nbformat": 4,
 "nbformat_minor": 2
}
